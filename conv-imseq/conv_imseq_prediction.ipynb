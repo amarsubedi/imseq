{
 "cells": [
  {
   "cell_type": "code",
   "execution_count": 8,
   "metadata": {
    "collapsed": false
   },
   "outputs": [],
   "source": [
    "import os\n",
    "import sys\n",
    "\n",
    "# add path to libraries for ipython\n",
    "sys.path.append(os.path.expanduser(\"~/libs\"))\n",
    "\n",
    "import time\n",
    "import math\n",
    "\n",
    "import cv2\n",
    "from scipy.misc import imresize\n",
    "import numpy as np\n",
    "import tensorflow as tf\n",
    "import tensortools as tt\n",
    "\n",
    "import model.conv_deconv_model as model\n",
    "# import model.conv_lstm_model as model"
   ]
  },
  {
   "cell_type": "code",
   "execution_count": 11,
   "metadata": {
    "collapsed": true
   },
   "outputs": [],
   "source": [
    "# VIDEO_FILE = 'tmp/UCF11_updated_mpg/golf_swing/v_golf_10/v_golf_10_02.mpg'\n",
    "VIDEO_FILE = 'tmp/UCF11_updated_mpg/tennis_swing/v_tennis_01/v_tennis_01_01.mpg'\n",
    "# VIDEO_FILE = 'tmp/UCF11_updated_mpg/golf_swing/v_golf_14/v_golf_14_03.mpg' # Overfitting file\n",
    "VIDEO_START_FRAME = 0 \n",
    "\n",
    "TRAIN_DIR = 'train'\n",
    "CHECKPOINT_FILE = 'model.ckpt-30000'\n",
    "VIDEO_OUTPUT_NAME = 'out/predicted_video.avi'\n",
    "\n",
    "INPUT_SEQ_LENGTH = 5\n",
    "\n",
    "PREDICTION_LENGTH = 270\n",
    "GROUND_TRUTH_LENGTH = 5\n",
    "\n",
    "FRAME_SCALE_FACTOR = 1.0\n",
    "FRAME_WIDTH = int(320 * FRAME_SCALE_FACTOR)\n",
    "FRAME_HEIGHT = int(240 * FRAME_SCALE_FACTOR)\n",
    "FRAME_CHANNELS = 1\n",
    "\n",
    "LAMBDA = 5e-4\n",
    "\n",
    "BATCH_SIZE = 1\n",
    "\n",
    "GPU_MEMORY_FRACTION = 1.0"
   ]
  },
  {
   "cell_type": "markdown",
   "metadata": {},
   "source": [
    "# MAIN"
   ]
  },
  {
   "cell_type": "code",
   "execution_count": 12,
   "metadata": {
    "collapsed": false
   },
   "outputs": [
    {
     "name": "stdout",
     "output_type": "stream",
     "text": [
      "DONE\n"
     ]
    }
   ],
   "source": [
    "with tf.Graph().as_default():\n",
    "    seq_batch = tf.placeholder(tf.float32, shape=[None, FRAME_HEIGHT, FRAME_WIDTH, FRAME_CHANNELS * INPUT_SEQ_LENGTH])\n",
    "    \n",
    "    # build graph and compute predictions from the inference model\n",
    "    model_output = model.inference(seq_batch,\n",
    "                                   FRAME_CHANNELS,\n",
    "                                   INPUT_SEQ_LENGTH,\n",
    "                                   LAMBDA)\n",
    "\n",
    "    # Create a saver and merge all summaries\n",
    "    saver = tf.train.Saver(tf.all_variables())\n",
    "\n",
    "    # Create a session for running operations in the Graph\n",
    "    gpu_options = tf.GPUOptions(per_process_gpu_memory_fraction=GPU_MEMORY_FRACTION)\n",
    "    with tf.Session(config=tf.ConfigProto(gpu_options=gpu_options)) as sess:\n",
    "        checkpoint_path = os.path.join(TRAIN_DIR, CHECKPOINT_FILE)\n",
    "        saver.restore(sess, checkpoint_path)\n",
    "        \n",
    "        with tt.utils.video.VideoReader(VIDEO_FILE, VIDEO_START_FRAME) as vr:\n",
    "            with tt.utils.video.VideoWriter(\n",
    "                VIDEO_OUTPUT_NAME,\n",
    "                frame_size=(FRAME_HEIGHT, FRAME_WIDTH),\n",
    "                is_color=False if FRAME_CHANNELS == 1 else True) as vw:\n",
    "\n",
    "                input_frames = []\n",
    "\n",
    "                for i in xrange(GROUND_TRUTH_LENGTH):\n",
    "                    frame = vr.next_frame(FRAME_SCALE_FACTOR)\n",
    "                    \n",
    "                    if FRAME_CHANNELS == 1:\n",
    "                        frame = tt.utils.image.to_grayscale(frame)\n",
    "\n",
    "                    if frame is not None:\n",
    "                        vw.write_frame(frame)\n",
    "\n",
    "                        if i >= GROUND_TRUTH_LENGTH - INPUT_SEQ_LENGTH:\n",
    "                            frame = (frame - 127.5) / 127.5\n",
    "                            input_frames.append(frame)\n",
    "                    else:\n",
    "                        print('Warning: Error while reading frame.')\n",
    "                        ensure_minimum_framesize\n",
    "\n",
    "                # insert an empty frame in between:\n",
    "                black_frame = np.zeros((FRAME_HEIGHT, FRAME_WIDTH, FRAME_CHANNELS), dtype=np.uint8) \n",
    "                vw.write_frame(black_frame)\n",
    "                vw.write_frame(black_frame)\n",
    "\n",
    "                for j in xrange(PREDICTION_LENGTH):\n",
    "                    seq_input = input_frames[0]\n",
    "                    for f in xrange(1, INPUT_SEQ_LENGTH):\n",
    "                        seq_input = np.concatenate([seq_input, input_frames[f]], axis=2)\n",
    "                    seq_input = np.expand_dims(seq_input, axis=0)\n",
    "\n",
    "                    predicted_frame = sess.run(model_output, feed_dict={seq_batch: seq_input})\n",
    "                    predicted_frame = np.squeeze(predicted_frame, axis=(0,))\n",
    "                    np.place(predicted_frame, predicted_frame > 1, [1])\n",
    "                    np.place(predicted_frame, predicted_frame < -1, [-1])\n",
    "                    video_frame = predicted_frame * 127.5 + 127.5\n",
    "                    np.place(video_frame, video_frame > 255, [255]) # values are 0-256?!\n",
    "                    video_frame = video_frame.astype(np.uint8)\n",
    "                    vw.write_frame(video_frame)\n",
    "\n",
    "                    del input_frames[0]\n",
    "                    input_frames.append(predicted_frame)\n",
    "\n",
    "print('DONE')"
   ]
  },
  {
   "cell_type": "code",
   "execution_count": null,
   "metadata": {
    "collapsed": true
   },
   "outputs": [],
   "source": []
  }
 ],
 "metadata": {
  "kernelspec": {
   "display_name": "Python 2",
   "language": "python",
   "name": "python2"
  },
  "language_info": {
   "codemirror_mode": {
    "name": "ipython",
    "version": 2
   },
   "file_extension": ".py",
   "mimetype": "text/x-python",
   "name": "python",
   "nbconvert_exporter": "python",
   "pygments_lexer": "ipython2",
   "version": "2.7.6"
  }
 },
 "nbformat": 4,
 "nbformat_minor": 0
}
