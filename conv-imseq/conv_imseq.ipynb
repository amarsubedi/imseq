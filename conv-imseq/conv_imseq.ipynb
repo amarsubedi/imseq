{
 "cells": [
  {
   "cell_type": "markdown",
   "metadata": {},
   "source": [
    "# Setup:\n",
    "\n",
    "Select a GPU before starting this ipython server. As an example, to use /gpu:4 on the server, use the following command:\n",
    "\n",
    "*$ export CUDA_VISIBLE_DEVICES=4*\n",
    "\n",
    "In case this variable is not set or mulitple devices are selected, TensorFlow will allocate memory on **all** devices, but will run only on /gpu:0."
   ]
  },
  {
   "cell_type": "code",
   "execution_count": null,
   "metadata": {
    "collapsed": false
   },
   "outputs": [],
   "source": [
    "# Force matplotlib to use inline rendering\n",
    "%matplotlib inline\n",
    "\n",
    "import os\n",
    "import sys\n",
    "\n",
    "# add path to libraries for ipython\n",
    "sys.path.append(os.path.expanduser(\"~/libs\"))\n",
    "\n",
    "import time\n",
    "from datetime import datetime\n",
    "import cv2\n",
    "import fnmatch\n",
    "import numpy as np\n",
    "from scipy.misc import imresize\n",
    "import matplotlib.pyplot as plt\n",
    "import tensorflow as tf\n",
    "import tensortools as tt\n",
    "\n",
    "import model.conv_deconv_model as model\n",
    "# import model.conv_lstm_model as model"
   ]
  },
  {
   "cell_type": "code",
   "execution_count": null,
   "metadata": {
    "collapsed": false
   },
   "outputs": [],
   "source": [
    "# Global config parameters\n",
    "DATASET_URL = 'http://crcv.ucf.edu/data/UCF11_updated_mpg.rar'\n",
    "\n",
    "SERIALIZED_SEQ_LENGTH = 30\n",
    "INPUT_SEQ_LENGTH = 5\n",
    "\n",
    "FRAME_SCALE_FACTOR = 0.2\n",
    "FRAME_WIDTH = int(320 * FRAME_SCALE_FACTOR)\n",
    "FRAME_HEIGHT = int(240 * FRAME_SCALE_FACTOR)\n",
    "FRAME_CHANNELS = 3\n",
    "\n",
    "MIN_FRACTION_EXAMPLES_IN_QUEUE = 0.15\n",
    "NUM_EXAMPLES_PER_EPOCH_FOR_TRAIN = 1544\n",
    "NUM_EXAMPLES_PER_EPOCH_FOR_EVAL = 0\n",
    "\n",
    "MOVING_AVERAGE_DECAY = 0.9999\n",
    "NUM_EPOCHS_PER_DECAY = 100.0\n",
    "LEARNING_RATE_DECAY_FACTOR = 0.2\n",
    "INITIAL_LEARNING_RATE = 0.005\n",
    "\n",
    "LAMBDA = 5e-4\n",
    "\n",
    "BATCH_SIZE = 64\n",
    "\n",
    "TRAIN_DIR = 'train'\n",
    "MAX_STEPS = 2000\n",
    "\n",
    "# Reminder: Uses the GPU that is selected by CUDA_VISIBLE_DEVICES!\n",
    "GPU_MEMORY_FRACTION = 1.0"
   ]
  },
  {
   "cell_type": "code",
   "execution_count": null,
   "metadata": {
    "collapsed": false
   },
   "outputs": [],
   "source": [
    "# For manual verification of used parameters\n",
    "print(\"Frame size: {}x{}\".format(FRAME_WIDTH, FRAME_HEIGHT))\n",
    "print(\"Learning rate decay every {} steps\".format(NUM_EPOCHS_PER_DECAY * NUM_EXAMPLES_PER_EPOCH_FOR_TRAIN\n",
    "                                                  // BATCH_SIZE))"
   ]
  },
  {
   "cell_type": "markdown",
   "metadata": {},
   "source": [
    "# Input Data"
   ]
  },
  {
   "cell_type": "code",
   "execution_count": null,
   "metadata": {
    "collapsed": false
   },
   "outputs": [],
   "source": [
    "rar_path = tt.utils.data.download(DATASET_URL, 'tmp')\n",
    "tt.utils.data.extract(rar_path, \"tmp\")"
   ]
  },
  {
   "cell_type": "code",
   "execution_count": null,
   "metadata": {
    "collapsed": false
   },
   "outputs": [],
   "source": [
    "def get_filenames(root_dir, file_pattern):\n",
    "    matches = []\n",
    "    for root, dirnames, filenames in os.walk(root_dir):\n",
    "        for filename in fnmatch.filter(filenames, file_pattern):\n",
    "            matches.append(os.path.join(root, filename))\n",
    "    return matches"
   ]
  },
  {
   "cell_type": "markdown",
   "metadata": {},
   "source": [
    "### Optional Preprocessing of videos\n",
    "\n",
    "Converting videos to frame bundled frame sequences, to create files that can be read using TensorFlows FixedLengthRecordReader.\n",
    "In the future, this could be replaced with a custom OpenCvVideoReader, which has to be implemented in C++. This requires to work an the source code of TensorFlow, instead of the pip package."
   ]
  },
  {
   "cell_type": "code",
   "execution_count": null,
   "metadata": {
    "collapsed": false
   },
   "outputs": [],
   "source": [
    "def write_frame_to_file_as_binary(frame, filepath):\n",
    "    with open(filepath, \"w\") as f:\n",
    "        frame_bytes = frame.tobytes()\n",
    "        f.write(frame_bytes)"
   ]
  },
  {
   "cell_type": "code",
   "execution_count": null,
   "metadata": {
    "collapsed": false
   },
   "outputs": [],
   "source": [
    "video_filenames = get_filenames('.', '*.mpg')\n",
    "\n",
    "for i, video_filename in enumerate(video_filenames):\n",
    "    with tt.utils.video.VideoReader(video_filename) as vr:\n",
    "        frames = []\n",
    "        for f in xrange(SERIALIZED_SEQ_LENGTH):\n",
    "            frame = frame = vr.next_frame(FRAME_SCALE_FACTOR)\n",
    "            if frame is not None:\n",
    "                # ensure frame is not too large\n",
    "                h, w, c = np.shape(frame)\n",
    "                if h > FRAME_HEIGHT or w > FRAME_WIDTH:\n",
    "                    frame = frame[:FRAME_HEIGHT, :FRAME_WIDTH, :]\n",
    "                if not h < FRAME_HEIGHT and not w < FRAME_WIDTH:\n",
    "                    frame = np.reshape(frame, [FRAME_HEIGHT, FRAME_WIDTH, -1])\n",
    "                    frames.append(frame)\n",
    "                else:\n",
    "                    print('Warning: Frame bounds too small. Skipping.')\n",
    "                    break\n",
    "            else:\n",
    "                print('Warning: Frame sequence too short. Skipping.')\n",
    "                break\n",
    "\n",
    "        if len(frames) == SERIALIZED_SEQ_LENGTH:\n",
    "            # TODO: seqences from one folder to a single file?\n",
    "            seq_filepath = os.path.splitext(video_filename)[0] + '.seq'\n",
    "            write_frame_to_file_as_binary(np.asarray(frames), seq_filepath)\n",
    "\n",
    "print('Successfully extracted frame sequences.')"
   ]
  },
  {
   "cell_type": "code",
   "execution_count": null,
   "metadata": {
    "collapsed": false
   },
   "outputs": [],
   "source": [
    "def read_record(filename_queue):\n",
    "    class FrameSeqRecord(object):\n",
    "        pass\n",
    "    record = FrameSeqRecord()\n",
    "    record.height = FRAME_HEIGHT\n",
    "    record.width = FRAME_WIDTH\n",
    "    record.depth = FRAME_CHANNELS\n",
    "\n",
    "    frame_bytes = record.height * record.width * record.depth\n",
    "    record_bytes = frame_bytes * (INPUT_SEQ_LENGTH + 1)\n",
    "    total_file_bytes = frame_bytes * SERIALIZED_SEQ_LENGTH\n",
    "\n",
    "    reader = tf.FixedLengthRecordReader(total_file_bytes)\n",
    "\n",
    "    record.key, value = reader.read(filename_queue)\n",
    "    decoded_record_bytes = tf.decode_raw(value, tf.uint8)\n",
    "    \n",
    "    record.data = decoded_record_bytes[0:(INPUT_SEQ_LENGTH)]\n",
    "    record.prediction = decoded_record_bytes[INPUT_SEQ_LENGTH]\n",
    "    \n",
    "    decoded_record_bytes = tf.reshape(decoded_record_bytes,\n",
    "                                      [SERIALIZED_SEQ_LENGTH, FRAME_HEIGHT, FRAME_WIDTH, FRAME_CHANNELS])\n",
    "    \n",
    "    # calculcate tensors [start, 0, 0, 0] and [start + INPUT_SEQ_LENGTH, 0, 0, 0]\n",
    "    rnd_start_index = tf.to_int32(tf.random_uniform([1], 0, SERIALIZED_SEQ_LENGTH - (INPUT_SEQ_LENGTH + 1), tf.int32))\n",
    "    seq_start_offset = tf.SparseTensor(indices=[[0]], values=rnd_start_index, shape=[4])\n",
    "    sequence_start = tf.sparse_tensor_to_dense(seq_start_offset)\n",
    "    pred_start_offset = tf.SparseTensor(indices=[[0]], values=rnd_start_index + INPUT_SEQ_LENGTH, shape=[4])\n",
    "    prediction_start = tf.sparse_tensor_to_dense(pred_start_offset)\n",
    "    \n",
    "    # take first n-1 frames as input\n",
    "    record.data = tf.cast(tf.slice(decoded_record_bytes, sequence_start,\n",
    "                                   [INPUT_SEQ_LENGTH, FRAME_HEIGHT, FRAME_WIDTH, FRAME_CHANNELS]),\n",
    "                          tf.float32)\n",
    "    # take last frame as prediction\n",
    "    record.prediction = tf.cast(tf.slice(decoded_record_bytes, prediction_start,\n",
    "                                         [1, FRAME_HEIGHT, FRAME_WIDTH, FRAME_CHANNELS]),\n",
    "                                tf.float32)\n",
    "    record.prediction = tf.squeeze(record.prediction)\n",
    "    return record"
   ]
  },
  {
   "cell_type": "code",
   "execution_count": null,
   "metadata": {
    "collapsed": true
   },
   "outputs": [],
   "source": [
    "def generate_sequence_batch(sequence_in, prediction, min_queue_examples,\n",
    "                            batch_size, shuffle):\n",
    "    \"\"\"Construct a queued batch of images and labels.\n",
    "    Args:\n",
    "        sequence: 3-D Tensor array of [[height, width, 3]] of type.float32.\n",
    "        min_queue_examples: int32, minimum number of samples to retain in\n",
    "                            the queue that provides of batches of examples.\n",
    "        batch_size: Number of images per batch.\n",
    "        shuffle: boolean indicating whether to use a shuffling queue.\n",
    "    Returns:\n",
    "        images: Images. 4D tensor of [batch_size, height, width, 3] size.\n",
    "    \"\"\"\n",
    "    # Create a queue that shuffles the examples, and then\n",
    "    # read 'batch_size' images + labels from the example queue.\n",
    "    num_preprocess_threads = 1 # NOTE: random number generators get race conditions, when > 2\n",
    "    # ==> IDEA: apply random contrast/brightness/flip BEFORE slicing the input sequence into frames and prediction\n",
    "    if shuffle:\n",
    "        sequence_batch, prediction_batch = tf.train.shuffle_batch(\n",
    "            [sequence_in, prediction],\n",
    "            batch_size=batch_size,\n",
    "            num_threads=num_preprocess_threads,\n",
    "            capacity=min_queue_examples + 3 * batch_size,\n",
    "            min_after_dequeue=min_queue_examples)\n",
    "    else:\n",
    "        sequence_batch, prediction_batch = tf.train.batch(\n",
    "            [sequence_in, prediction],\n",
    "            batch_size=batch_size,\n",
    "            num_threads=num_preprocess_threads,\n",
    "            capacity=min_queue_examples + 3 * batch_size)\n",
    "\n",
    "    # Display the training images in the visualizer.\n",
    "    # tf.image_summary('sequence', sequence_batch[0][0])\n",
    "\n",
    "    return sequence_batch, prediction_batch"
   ]
  },
  {
   "cell_type": "code",
   "execution_count": null,
   "metadata": {
    "collapsed": true
   },
   "outputs": [],
   "source": [
    "def distort_image(image):\n",
    "    return image\n",
    "    flipped_image = tf.image.random_flip_left_right(image, seed=42)\n",
    "\n",
    "    # Because these operations are not commutative, consider randomizing\n",
    "    # the order their operation:\n",
    "    contrast_image = tf.image.random_contrast(flipped_image, lower=0.2, upper=1.8, seed=43)\n",
    "    brightness_image = tf.image.random_brightness(contrast_image, max_delta=0.2, seed=44)\n",
    "\n",
    "    return brightness_image"
   ]
  },
  {
   "cell_type": "code",
   "execution_count": null,
   "metadata": {
    "collapsed": true
   },
   "outputs": [],
   "source": [
    "def inputs(data_dir, batch_size):\n",
    "    \"\"\"Construct input using the Reader ops.\n",
    "    Args:\n",
    "        data_dir: Path to the data directory.\n",
    "        batch_size: Number of image sequences per batch.\n",
    "    Returns:\n",
    "        images: Images. 4D tensor of [batch_size, FRAME_HEIGHT, FRAME_WIDTH, 3 * INPUT_SEQ_LENGTH] size.\n",
    "    \"\"\"\n",
    "    # if not eval_data:\n",
    "    # filenames = [os.path.join(data_dir, 'data_batch_%d.bin' % i)\n",
    "    #             for i in xrange(1, 6)]\n",
    "    num_examples_per_epoch = NUM_EXAMPLES_PER_EPOCH_FOR_TRAIN\n",
    "    # else:\n",
    "    #    filenames = [os.path.join(data_dir, 'test_batch.bin')]\n",
    "    #    num_examples_per_epoch = NUM_EXAMPLES_PER_EPOCH_FOR_EVAL#\n",
    "\n",
    "    # for f in filenames:\n",
    "    #    if not tf.gfile.Exists(f):\n",
    "    #        raise ValueError('Failed to find file: ' + f)\n",
    "    \n",
    "    seq_filenames = get_filenames(data_dir, '*.seq')\n",
    "    # seq_filenames_overfit = []\n",
    "    # for i in xrange(BATCH_SIZE):\n",
    "    #     seq_filenames_overfit.append(seq_filenames[i])\n",
    "    # seq_filenames = seq_filenames_overfit\n",
    "    # print('Overfitting on file:', seq_filenames)\n",
    "    \n",
    "    print('Found %d frame sequence files' % len(seq_filenames))\n",
    "\n",
    "    filename_queue = tf.train.string_input_producer(seq_filenames)\n",
    "    seq_record = read_record(filename_queue)  \n",
    "    \n",
    "    reshaped_seq = tf.cast(seq_record.data, tf.float32)\n",
    "\n",
    "    seq_record.prediction = (seq_record.prediction - 128.0) / 128.0\n",
    "    reshaped_seq = (reshaped_seq - 128.0) / 128.0\n",
    "    \n",
    "    # distort images\n",
    "    distorted_prediction = distort_image(seq_record.prediction)\n",
    "    distorted_input = []\n",
    "    for i in xrange(INPUT_SEQ_LENGTH):\n",
    "        distorted_input.append(distort_image(reshaped_seq[i,:,:,:]))\n",
    "    stacked_distorted_input = tf.concat(2, distorted_input)\n",
    "\n",
    "    # Ensure that the random shuffling has good mixing properties.\n",
    "    min_queue_examples = int(num_examples_per_epoch *\n",
    "                             MIN_FRACTION_EXAMPLES_IN_QUEUE)\n",
    "    print(\"Try retain min. {} examples in queue\".format(min_queue_examples))\n",
    "    \n",
    "    # Generate a batch of sequences and labels by building up a queue of examples.\n",
    "    return generate_sequence_batch(stacked_distorted_input, distorted_prediction, min_queue_examples, \n",
    "                                   batch_size, shuffle=True)"
   ]
  },
  {
   "cell_type": "markdown",
   "metadata": {
    "collapsed": true
   },
   "source": [
    "# Inference\n",
    "Has been moved to *model/...* to allow code sharing."
   ]
  },
  {
   "cell_type": "markdown",
   "metadata": {},
   "source": [
    "# Loss"
   ]
  },
  {
   "cell_type": "markdown",
   "metadata": {
    "collapsed": false
   },
   "source": [
    "Has been moved to *model/...* to allow code sharing."
   ]
  },
  {
   "cell_type": "markdown",
   "metadata": {},
   "source": [
    "# Training"
   ]
  },
  {
   "cell_type": "code",
   "execution_count": null,
   "metadata": {
    "collapsed": false
   },
   "outputs": [],
   "source": [
    "def train(total_cost, cost, global_step):\n",
    "    \"\"\"Train sequence model.\n",
    "    Create an optimizer and apply to all trainable variables. Add moving\n",
    "    average for all trainable variables.\n",
    "    Args:\n",
    "        total_cost: Total loss from loss function including regularization terms.\n",
    "        cost: Raw loss from loss function without regularization terms.\n",
    "        global_step: Integer Variable counting the number of training steps\n",
    "                     processed.\n",
    "    Returns:\n",
    "        train_op: op for training.\n",
    "    \"\"\"\n",
    "    # Variables that affect learning rate\n",
    "    num_batches_per_epoch = NUM_EXAMPLES_PER_EPOCH_FOR_TRAIN / BATCH_SIZE\n",
    "    decay_steps = int(num_batches_per_epoch * NUM_EPOCHS_PER_DECAY)\n",
    "\n",
    "    # Decay the learning rate exponentially based on the number of steps\n",
    "    lr = tf.train.exponential_decay(INITIAL_LEARNING_RATE,\n",
    "                                    global_step,\n",
    "                                    decay_steps,\n",
    "                                    LEARNING_RATE_DECAY_FACTOR,\n",
    "                                    staircase=True)\n",
    "    tf.scalar_summary('learning_rate', lr)\n",
    "\n",
    "    # Generate moving averages of all losses and associated summaries\n",
    "    cost_averages_op = tt.board.loss_summary([total_cost, cost] +\n",
    "                                             tf.get_collection(tf.GraphKeys.REGULARIZATION_LOSSES))\n",
    "\n",
    "    # Compute gradients\n",
    "    with tf.control_dependencies([cost_averages_op]):\n",
    "        opt = tf.train.AdamOptimizer(lr)\n",
    "        grads = opt.compute_gradients(total_cost)\n",
    "\n",
    "    # Apply gradients\n",
    "    apply_gradient_op = opt.apply_gradients(grads, global_step=global_step)\n",
    "\n",
    "    tt.board.variables_histogram_summary()\n",
    "\n",
    "    # Add histograms for gradients\n",
    "    tt.board.gradients_histogram_summary(grads)\n",
    "\n",
    "    # Track the moving averages of all trainable variables\n",
    "    variable_averages = tf.train.ExponentialMovingAverage(MOVING_AVERAGE_DECAY, global_step)\n",
    "    variables_averages_op = variable_averages.apply(tf.trainable_variables())\n",
    "\n",
    "    with tf.control_dependencies([apply_gradient_op, variables_averages_op]):\n",
    "        train_op = tf.no_op(name='train')\n",
    "\n",
    "    return train_op"
   ]
  },
  {
   "cell_type": "markdown",
   "metadata": {},
   "source": [
    "# TensorFlow Session (Main)"
   ]
  },
  {
   "cell_type": "code",
   "execution_count": null,
   "metadata": {
    "collapsed": true
   },
   "outputs": [],
   "source": [
    "def save_frame(suffix, frames, index):\n",
    "    if not os.path.exists('out'):\n",
    "        os.makedirs('out')\n",
    "    frame = frames[index] * 128.0 + 128.0\n",
    "    filename = 'out/{}-{}.png'.format(index, suffix)\n",
    "    print('Writing frame {}'.format(filename))\n",
    "    cv2.imwrite(filename, frame)"
   ]
  },
  {
   "cell_type": "code",
   "execution_count": null,
   "metadata": {
    "collapsed": false,
    "scrolled": true
   },
   "outputs": [],
   "source": [
    "with tf.Graph().as_default():\n",
    "    global_step = tf.Variable(0, trainable=False)\n",
    "    \n",
    "    # get images batch from dataset\n",
    "    seq_batch, prediction_batch = inputs('tmp', BATCH_SIZE)\n",
    "\n",
    "    # build graph and compute predictions from the inference model\n",
    "    model_output = model.inference(seq_batch, \n",
    "                                   FRAME_CHANNELS, \n",
    "                                   INPUT_SEQ_LENGTH, \n",
    "                                   LAMBDA)\n",
    "\n",
    "    # calculate loss\n",
    "    cost_with_reg, cost = model.loss(model_output, prediction_batch)\n",
    "\n",
    "    # train the model\n",
    "    train_op = train(cost_with_reg, cost, global_step)\n",
    "\n",
    "    # Create a saver and merge all summaries\n",
    "    saver = tf.train.Saver(tf.all_variables())\n",
    "    summary_op = tf.merge_all_summaries()\n",
    "\n",
    "    # Create the graph, etc.\n",
    "    init_op = tf.initialize_all_variables()\n",
    "\n",
    "    # Create a session for running operations in the Graph\n",
    "    gpu_options = tf.GPUOptions(per_process_gpu_memory_fraction=GPU_MEMORY_FRACTION)\n",
    "    with tf.Session(config=tf.ConfigProto(gpu_options=gpu_options)) as sess:\n",
    "\n",
    "        # Initialize the variables (like the epoch counter)\n",
    "        sess.run(init_op)\n",
    "\n",
    "        # Start input enqueue threads\n",
    "        coord = tf.train.Coordinator()\n",
    "        threads = tf.train.start_queue_runners(sess=sess, coord=coord)\n",
    "\n",
    "        summary_writer = tf.train.SummaryWriter(TRAIN_DIR, sess.graph)\n",
    "\n",
    "        try:\n",
    "            step = 0\n",
    "            while not coord.should_stop():\n",
    "                step += 1\n",
    "                if (step > MAX_STEPS):\n",
    "                    break\n",
    "\n",
    "                start_time = time.time()\n",
    "\n",
    "                _, cost_with_reg_value, cost_value = sess.run([train_op, cost_with_reg, cost])\n",
    "                duration = time.time() - start_time\n",
    "\n",
    "                assert not np.isnan(cost_with_reg_value), 'Model diverged with cost = NaN'\n",
    "\n",
    "                if step % 10 == 0:\n",
    "                    num_examples_per_step = BATCH_SIZE\n",
    "                    examples_per_sec = num_examples_per_step / duration\n",
    "                    sec_per_batch = float(duration)\n",
    "\n",
    "                    format_str = ('%s: step %d, loss = %.2f, lost w/o reg = %.2f (%.1f examples/sec; %.3f '\n",
    "                                  'sec/batch)')\n",
    "                    print (format_str % (datetime.now().time(), step, cost_with_reg_value, cost_value,\n",
    "                                         examples_per_sec, sec_per_batch))\n",
    "\n",
    "                if step % 100 == 0:\n",
    "                    summary_str = sess.run(summary_op)\n",
    "                    summary_writer.add_summary(summary_str, step)\n",
    "                    summary_writer.flush() \n",
    "\n",
    "                # Save the model checkpoint periodically.\n",
    "                if step % 1000 == 0 or (step + 1) == MAX_STEPS:\n",
    "                    checkpoint_path = os.path.join(TRAIN_DIR, 'model.ckpt')\n",
    "                    saver.save(sess, checkpoint_path, global_step=step)\n",
    "\n",
    "        except tf.errors.OutOfRangeError:\n",
    "            print('Done training -- epoch limit reached')\n",
    "        finally:\n",
    "            # When done, ask the threads to stop\n",
    "            coord.request_stop()\n",
    "\n",
    "        # Wait for threads to finish\n",
    "        coord.join(threads)\n",
    "\n",
    "        sequences, targets, predictions = sess.run([seq_batch, prediction_batch, model_output])\n",
    "\n",
    "        # print predictions of a batch\n",
    "        for idx in xrange(BATCH_SIZE):\n",
    "            save_frame('pred', predictions, idx)\n",
    "\n",
    "        for idx in xrange(BATCH_SIZE):\n",
    "            for s in xrange(INPUT_SEQ_LENGTH):\n",
    "                save_frame('seq{}'.format(s), sequences[:, : , :,(s * FRAME_CHANNELS):((s + 1) * FRAME_CHANNELS)], idx)\n",
    "\n",
    "        for idx in xrange(BATCH_SIZE):\n",
    "            save_frame('target', targets, idx)\n"
   ]
  },
  {
   "cell_type": "code",
   "execution_count": null,
   "metadata": {
    "collapsed": true
   },
   "outputs": [],
   "source": []
  }
 ],
 "metadata": {
  "kernelspec": {
   "display_name": "Python 2",
   "language": "python",
   "name": "python2"
  },
  "language_info": {
   "codemirror_mode": {
    "name": "ipython",
    "version": 2
   },
   "file_extension": ".py",
   "mimetype": "text/x-python",
   "name": "python",
   "nbconvert_exporter": "python",
   "pygments_lexer": "ipython2",
   "version": "2.7.6"
  }
 },
 "nbformat": 4,
 "nbformat_minor": 0
}
